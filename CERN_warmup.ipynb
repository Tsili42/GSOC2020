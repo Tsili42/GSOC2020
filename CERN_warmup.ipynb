{
  "nbformat": 4,
  "nbformat_minor": 0,
  "metadata": {
    "colab": {
      "name": "CERN-warmup.ipynb",
      "provenance": [],
      "collapsed_sections": [],
      "toc_visible": true,
      "authorship_tag": "ABX9TyNwKLLBUzOoQgIojr5cR2ck"
    },
    "kernelspec": {
      "name": "python3",
      "display_name": "Python 3"
    }
  },
  "cells": [
    {
      "cell_type": "markdown",
      "metadata": {
        "id": "ROi1-6dGqKK4",
        "colab_type": "text"
      },
      "source": [
        "# Machine Learning Part"
      ]
    },
    {
      "cell_type": "code",
      "metadata": {
        "id": "L1tzU9ds7mwB",
        "colab_type": "code",
        "colab": {}
      },
      "source": [
        "import numpy as np"
      ],
      "execution_count": 0,
      "outputs": []
    },
    {
      "cell_type": "markdown",
      "metadata": {
        "id": "mczuVfoDp-cr",
        "colab_type": "text"
      },
      "source": [
        "## Data preparation\n",
        "We are going to use pytorch to help us build our algorithm. First, we define a custom Dataset class to hold our data (train/test). We, also, split the training data into 2 sets (train and validation), in order to test our model's generalization ability without using the test data. Given more data, it would be beneficial to tune the batch size and/or perform k-fold cross validation. "
      ]
    },
    {
      "cell_type": "code",
      "metadata": {
        "id": "FutVLUHFcmwW",
        "colab_type": "code",
        "colab": {}
      },
      "source": [
        "from torch.utils.data import SubsetRandomSampler, Dataset\n",
        "\n",
        "def split_train_val(dataset, batch_train, batch_val, val_size=.2, shuffle=True, seed=17):\n",
        "    dataset_size = len(dataset)\n",
        "    indices = list(range(dataset_size))\n",
        "    val_split = int(np.floor(val_size * dataset_size))\n",
        "    \n",
        "    if shuffle:\n",
        "        np.random.seed(seed)\n",
        "        np.random.shuffle(indices)\n",
        "    train_indices = indices[val_split:]\n",
        "    val_indices = indices[:val_split]\n",
        "\n",
        "    train_loader = DataLoader(dataset, batch_size=batch_train, sampler=SubsetRandomSampler(train_indices))\n",
        "    val_loader = DataLoader(dataset, batch_size=batch_val, sampler=SubsetRandomSampler(val_indices))\n",
        "    return train_loader, val_loader\n",
        "\n",
        "\n",
        "class HighEnergyDataset(Dataset):\n",
        "\n",
        "  def __init__(self, train):\n",
        "    t = 'training' if train else 'test'\n",
        "    self.path = np.load(t + '_input.npy', allow_pickle=True)\n",
        "    self.feats = np.concatenate((self.path.item()['0'], self.path.item()['1']), axis=0)\n",
        "    self.label = np.concatenate((np.full((50,), 0), np.full((50,), 1)), axis=0)\n",
        "\n",
        "  def __getitem__(self, item):\n",
        "    return (self.feats[item], self.label[item])\n",
        "\n",
        "  def __len__(self):\n",
        "    return len(self.label)"
      ],
      "execution_count": 0,
      "outputs": []
    },
    {
      "cell_type": "markdown",
      "metadata": {
        "id": "y5zTQGOj1fVH",
        "colab_type": "text"
      },
      "source": [
        "Load data from input files"
      ]
    },
    {
      "cell_type": "code",
      "metadata": {
        "id": "yfRXGUsM8img",
        "colab_type": "code",
        "colab": {}
      },
      "source": [
        "from torch.utils.data import DataLoader\n",
        "\n",
        "train_loader, val_loader = split_train_val(HighEnergyDataset(train=True), batch_train=1, batch_val=1)\n",
        "test_loader = DataLoader(HighEnergyDataset(train=False), batch_size=1)"
      ],
      "execution_count": 0,
      "outputs": []
    },
    {
      "cell_type": "markdown",
      "metadata": {
        "id": "3ki8a60_1jFc",
        "colab_type": "text"
      },
      "source": [
        "## Model architecture\n",
        "We define our classifier to be a 2 layer neural network, with a ReLU non-linearity in the between. The output dimension is 2 (the input's probability to be $0$ and $1$, respectively) "
      ]
    },
    {
      "cell_type": "code",
      "metadata": {
        "id": "u25vDVeD8vLW",
        "colab_type": "code",
        "colab": {}
      },
      "source": [
        "import torch.nn as nn\n",
        "\n",
        "class BasicMLP(nn.Module):\n",
        "\n",
        "  def __init__(self):\n",
        "    super(BasicMLP, self).__init__()\n",
        "    \n",
        "    self.layer1 = nn.Sequential(nn.Linear(5, 20), nn.ReLU(inplace=True))\n",
        "    self.layer2 = nn.Sequential(nn.Linear(20, 2))\n",
        "\n",
        "  def forward(self, x):\n",
        "    x = self.layer1(x)\n",
        "    x = self.layer2(x)\n",
        "    return x"
      ],
      "execution_count": 0,
      "outputs": []
    },
    {
      "cell_type": "markdown",
      "metadata": {
        "id": "y-gL59GR2UIp",
        "colab_type": "text"
      },
      "source": [
        "## Training\n",
        "We train the classifier with stochastic gradient descent, choosing as loss the Cross Entropy loss. The hyperparameters of learning rate, number of epochs and NN's hidden layer dimension were tuned by checking the accuracy on the validation set."
      ]
    },
    {
      "cell_type": "code",
      "metadata": {
        "id": "I3TNil1Z88mk",
        "colab_type": "code",
        "colab": {}
      },
      "source": [
        "from torch import optim, no_grad, save, load\n",
        "from matplotlib import pyplot as plt\n",
        "\n",
        "def accuracy(model, data_loader):\n",
        "  model.eval()\n",
        "  correct, total = 0, 0\n",
        "  for feats, labels in data_loader:\n",
        "      with no_grad():\n",
        "          scores = model(feats.float())\n",
        "          prediction = scores.argmax(dim=1)\n",
        "          correct += (prediction == labels).item()\n",
        "          total += 1\n",
        "  return 100 * correct / total\n",
        "\n",
        "\n",
        "def train(model, loss_function, optimizer, data_loader, epochs=20):\n",
        "  train_acc = []\n",
        "  val_acc = []\n",
        "  max_val = 0\n",
        "  for epoch in range(epochs):\n",
        "    for feats, label in data_loader:\n",
        "      model.zero_grad()\n",
        "      optimizer.zero_grad()\n",
        "\n",
        "      prediction = model(feats.float())\n",
        "      loss = loss_function(prediction.float(), label)\n",
        "      loss.backward()\n",
        "      optimizer.step()\n",
        "\n",
        "    train_acc.append(accuracy(model, train_loader))\n",
        "    cur_val = accuracy(model, val_loader)\n",
        "    val_acc.append(cur_val)\n",
        "\n",
        "    max_val = cur_val if cur_val > max_val else max_val\n",
        "    if (epoch > 3 and cur_val == max_val and train_acc[-1] >= cur_val):  # save the best performing model\n",
        "      save(model, 'best.pt')\n",
        "\n",
        "  plt.plot(range(epochs), train_acc, 'g', range(epochs), val_acc, 'b')\n",
        "  plt.xlabel('epochs')\n",
        "  plt.ylabel('accuracy %')\n",
        "  plt.legend(['train accuracy', 'validation accuracy'])\n",
        "  plt.show()"
      ],
      "execution_count": 0,
      "outputs": []
    },
    {
      "cell_type": "code",
      "metadata": {
        "id": "EeVzBMIxhCKl",
        "colab_type": "code",
        "outputId": "0995e725-6338-46d4-d0f4-be153f8e2dc2",
        "colab": {
          "base_uri": "https://localhost:8080/",
          "height": 313
        }
      },
      "source": [
        "model = BasicMLP()\n",
        "loss_function = nn.CrossEntropyLoss()\n",
        "optimizer = optim.SGD(model.parameters(), lr=0.05)\n",
        "\n",
        "train(model, loss_function, optimizer, train_loader, epochs=200)"
      ],
      "execution_count": 6,
      "outputs": [
        {
          "output_type": "stream",
          "text": [
            "/usr/local/lib/python3.6/dist-packages/torch/serialization.py:360: UserWarning: Couldn't retrieve source code for container of type BasicMLP. It won't be checked for correctness upon loading.\n",
            "  \"type \" + obj.__name__ + \". It won't be checked \"\n"
          ],
          "name": "stderr"
        },
        {
          "output_type": "display_data",
          "data": {
            "image/png": "[encoded data removed]",
            "text/plain": [
              "<Figure size 432x288 with 1 Axes>"
            ]
          },
          "metadata": {
            "tags": []
          }
        }
      ]
    },
    {
      "cell_type": "markdown",
      "metadata": {
        "id": "XOAnSTK3-Iez",
        "colab_type": "text"
      },
      "source": [
        "## Evaluation on test data\n",
        "We load the best performing model found during the training process and we use it to classify the test data. The metric of evaluation is the accuracy of the classification. "
      ]
    },
    {
      "cell_type": "code",
      "metadata": {
        "id": "Pl02HOvD9gEr",
        "colab_type": "code",
        "colab": {
          "base_uri": "https://localhost:8080/",
          "height": 34
        },
        "outputId": "73e75be2-021f-4dae-aee4-337f061dce6e"
      },
      "source": [
        "model = load('best.pt')\n",
        "print(str(accuracy(model, test_loader)) + '%')"
      ],
      "execution_count": 7,
      "outputs": [
        {
          "output_type": "stream",
          "text": [
            "70.0%\n"
          ],
          "name": "stdout"
        }
      ]
    },
    {
      "cell_type": "markdown",
      "metadata": {
        "id": "0zewD87M3GtS",
        "colab_type": "text"
      },
      "source": [
        "# Quantum Computing Part"
      ]
    },
    {
      "cell_type": "code",
      "metadata": {
        "id": "9rAO7s1AhYMV",
        "colab_type": "code",
        "colab": {
          "base_uri": "https://localhost:8080/",
          "height": 595
        },
        "outputId": "f4059462-954d-4edb-f6c3-0d0efd6083cc"
      },
      "source": [
        "!pip3 install cirq\n",
        "\n",
        "import cirq"
      ],
      "execution_count": 8,
      "outputs": [
        {
          "output_type": "stream",
          "text": [
            "Requirement already satisfied: cirq in /usr/local/lib/python3.6/dist-packages (0.7.0)\n",
            "Requirement already satisfied: scipy in /usr/local/lib/python3.6/dist-packages (from cirq) (1.4.1)\n",
            "Requirement already satisfied: matplotlib~=3.0 in /usr/local/lib/python3.6/dist-packages (from cirq) (3.1.3)\n",
            "Requirement already satisfied: requests~=2.18 in /usr/local/lib/python3.6/dist-packages (from cirq) (2.21.0)\n",
            "Requirement already satisfied: google-api-python-client~=1.6 in /usr/local/lib/python3.6/dist-packages (from cirq) (1.7.11)\n",
            "Requirement already satisfied: sympy==1.4 in /usr/local/lib/python3.6/dist-packages (from cirq) (1.4)\n",
            "Requirement already satisfied: numpy~=1.16 in /usr/local/lib/python3.6/dist-packages (from cirq) (1.17.5)\n",
            "Requirement already satisfied: sortedcontainers~=2.0 in /usr/local/lib/python3.6/dist-packages (from cirq) (2.1.0)\n",
            "Requirement already satisfied: protobuf==3.8.0 in /usr/local/lib/python3.6/dist-packages (from cirq) (3.8.0)\n",
            "Requirement already satisfied: networkx==2.3 in /usr/local/lib/python3.6/dist-packages (from cirq) (2.3)\n",
            "Requirement already satisfied: dataclasses; python_version < \"3.7\" in /usr/local/lib/python3.6/dist-packages (from cirq) (0.7)\n",
            "Requirement already satisfied: typing-extensions in /usr/local/lib/python3.6/dist-packages (from cirq) (3.6.6)\n",
            "Requirement already satisfied: pandas in /usr/local/lib/python3.6/dist-packages (from cirq) (0.25.3)\n",
            "Requirement already satisfied: cycler>=0.10 in /usr/local/lib/python3.6/dist-packages (from matplotlib~=3.0->cirq) (0.10.0)\n",
            "Requirement already satisfied: pyparsing!=2.0.4,!=2.1.2,!=2.1.6,>=2.0.1 in /usr/local/lib/python3.6/dist-packages (from matplotlib~=3.0->cirq) (2.4.6)\n",
            "Requirement already satisfied: python-dateutil>=2.1 in /usr/local/lib/python3.6/dist-packages (from matplotlib~=3.0->cirq) (2.6.1)\n",
            "Requirement already satisfied: kiwisolver>=1.0.1 in /usr/local/lib/python3.6/dist-packages (from matplotlib~=3.0->cirq) (1.1.0)\n",
            "Requirement already satisfied: idna<2.9,>=2.5 in /usr/local/lib/python3.6/dist-packages (from requests~=2.18->cirq) (2.8)\n",
            "Requirement already satisfied: chardet<3.1.0,>=3.0.2 in /usr/local/lib/python3.6/dist-packages (from requests~=2.18->cirq) (3.0.4)\n",
            "Requirement already satisfied: urllib3<1.25,>=1.21.1 in /usr/local/lib/python3.6/dist-packages (from requests~=2.18->cirq) (1.24.3)\n",
            "Requirement already satisfied: certifi>=2017.4.17 in /usr/local/lib/python3.6/dist-packages (from requests~=2.18->cirq) (2019.11.28)\n",
            "Requirement already satisfied: google-auth-httplib2>=0.0.3 in /usr/local/lib/python3.6/dist-packages (from google-api-python-client~=1.6->cirq) (0.0.3)\n",
            "Requirement already satisfied: google-auth>=1.4.1 in /usr/local/lib/python3.6/dist-packages (from google-api-python-client~=1.6->cirq) (1.7.2)\n",
            "Requirement already satisfied: uritemplate<4dev,>=3.0.0 in /usr/local/lib/python3.6/dist-packages (from google-api-python-client~=1.6->cirq) (3.0.1)\n",
            "Requirement already satisfied: httplib2<1dev,>=0.9.2 in /usr/local/lib/python3.6/dist-packages (from google-api-python-client~=1.6->cirq) (0.11.3)\n",
            "Requirement already satisfied: six<2dev,>=1.6.1 in /usr/local/lib/python3.6/dist-packages (from google-api-python-client~=1.6->cirq) (1.12.0)\n",
            "Requirement already satisfied: mpmath>=0.19 in /usr/local/lib/python3.6/dist-packages (from sympy==1.4->cirq) (1.1.0)\n",
            "Requirement already satisfied: setuptools in /usr/local/lib/python3.6/dist-packages (from protobuf==3.8.0->cirq) (45.2.0)\n",
            "Requirement already satisfied: decorator>=4.3.0 in /usr/local/lib/python3.6/dist-packages (from networkx==2.3->cirq) (4.4.1)\n",
            "Requirement already satisfied: pytz>=2017.2 in /usr/local/lib/python3.6/dist-packages (from pandas->cirq) (2018.9)\n",
            "Requirement already satisfied: cachetools<3.2,>=2.0.0 in /usr/local/lib/python3.6/dist-packages (from google-auth>=1.4.1->google-api-python-client~=1.6->cirq) (3.1.1)\n",
            "Requirement already satisfied: rsa<4.1,>=3.1.4 in /usr/local/lib/python3.6/dist-packages (from google-auth>=1.4.1->google-api-python-client~=1.6->cirq) (4.0)\n",
            "Requirement already satisfied: pyasn1-modules>=0.2.1 in /usr/local/lib/python3.6/dist-packages (from google-auth>=1.4.1->google-api-python-client~=1.6->cirq) (0.2.8)\n",
            "Requirement already satisfied: pyasn1>=0.1.3 in /usr/local/lib/python3.6/dist-packages (from rsa<4.1,>=3.1.4->google-auth>=1.4.1->google-api-python-client~=1.6->cirq) (0.4.8)\n"
          ],
          "name": "stdout"
        }
      ]
    },
    {
      "cell_type": "markdown",
      "metadata": {
        "id": "6Q86eF893Qna",
        "colab_type": "text"
      },
      "source": [
        "## 1st part - Simple circuit"
      ]
    },
    {
      "cell_type": "code",
      "metadata": {
        "id": "_gF59L_OjFyR",
        "colab_type": "code",
        "outputId": "f9948e7c-6b89-49d3-ce94-6d99e4f9ca9b",
        "colab": {
          "base_uri": "https://localhost:8080/",
          "height": 204
        }
      },
      "source": [
        "import math\n",
        "\n",
        "qubits = [cirq.GridQubit(i, 0) for i in range(5)]\n",
        "circuit = cirq.Circuit()\n",
        "\n",
        "# Hadamard layer\n",
        "circuit.append([cirq.H(q) for q in qubits])\n",
        "\n",
        "# CNOT layer\n",
        "circuit.append([cirq.CNOT(qubits[i], qubits[i+1]) for i in range(len(qubits) - 1)])\n",
        "\n",
        "# SWAP layer\n",
        "circuit.append(cirq.SWAP(qubits[0], qubits[4]))\n",
        "\n",
        "# pi/2 Rotation layer\n",
        "def rot_x_layer(qubits, rads):\n",
        "    rot = cirq.rx(rads)\n",
        "    for i in range(len(qubits)):\n",
        "       yield rot(qubits[i])\n",
        "\n",
        "circuit.append([rot_x_layer(qubits, math.pi/2)])\n",
        "print(circuit)"
      ],
      "execution_count": 9,
      "outputs": [
        {
          "output_type": "stream",
          "text": [
            "                                             ┌─────────┐\n",
            "(0, 0): ───H───@──────────────────────────────×────────────Rx(0.5π)───\n",
            "               │                              │\n",
            "(1, 0): ───H───X───@───Rx(0.5π)───────────────┼───────────────────────\n",
            "                   │                          │\n",
            "(2, 0): ───H───────X───@──────────Rx(0.5π)────┼───────────────────────\n",
            "                       │                      │\n",
            "(3, 0): ───H───────────X──────────@───────────┼Rx(0.5π)───────────────\n",
            "                                  │           │\n",
            "(4, 0): ───H──────────────────────X───────────×────────────Rx(0.5π)───\n",
            "                                             └─────────┘\n"
          ],
          "name": "stdout"
        }
      ]
    },
    {
      "cell_type": "markdown",
      "metadata": {
        "id": "ZPiWsrNGpBx1",
        "colab_type": "text"
      },
      "source": [
        "## 2nd part - Simulation\n",
        "We define 10 circuits, with 1 to 10 rotations applied to the qubit before measuring its state. We approximate the probability of |0> state as the frequency of its occurence. We run 500 independent simulations."
      ]
    },
    {
      "cell_type": "code",
      "metadata": {
        "id": "1nyWMPIwlG2l",
        "colab_type": "code",
        "outputId": "76810541-4f7d-4a17-c384-b00e8ae52dc7",
        "colab": {
          "base_uri": "https://localhost:8080/",
          "height": 187
        }
      },
      "source": [
        "qubit = cirq.GridQubit(1,0)\n",
        "\n",
        "circuits = []\n",
        "for i in range(10):\n",
        "  circuits.append(cirq.Circuit())\n",
        "  for j in range(i+1):\n",
        "    circuits[-1].append(cirq.rx(math.pi/10)(qubit))\n",
        "  circuits[-1].append(cirq.measure(qubit, key='x'))\n",
        "  print(circuits[-1])"
      ],
      "execution_count": 10,
      "outputs": [
        {
          "output_type": "stream",
          "text": [
            "(1, 0): ───Rx(0.1π)───M('x')───\n",
            "(1, 0): ───Rx(0.1π)───Rx(0.1π)───M('x')───\n",
            "(1, 0): ───Rx(0.1π)───Rx(0.1π)───Rx(0.1π)───M('x')───\n",
            "(1, 0): ───Rx(0.1π)───Rx(0.1π)───Rx(0.1π)───Rx(0.1π)───M('x')───\n",
            "(1, 0): ───Rx(0.1π)───Rx(0.1π)───Rx(0.1π)───Rx(0.1π)───Rx(0.1π)───M('x')───\n",
            "(1, 0): ───Rx(0.1π)───Rx(0.1π)───Rx(0.1π)───Rx(0.1π)───Rx(0.1π)───Rx(0.1π)───M('x')───\n",
            "(1, 0): ───Rx(0.1π)───Rx(0.1π)───Rx(0.1π)───Rx(0.1π)───Rx(0.1π)───Rx(0.1π)───Rx(0.1π)───M('x')───\n",
            "(1, 0): ───Rx(0.1π)───Rx(0.1π)───Rx(0.1π)───Rx(0.1π)───Rx(0.1π)───Rx(0.1π)───Rx(0.1π)───Rx(0.1π)───M('x')───\n",
            "(1, 0): ───Rx(0.1π)───Rx(0.1π)───Rx(0.1π)───Rx(0.1π)───Rx(0.1π)───Rx(0.1π)───Rx(0.1π)───Rx(0.1π)───Rx(0.1π)───M('x')───\n",
            "(1, 0): ───Rx(0.1π)───Rx(0.1π)───Rx(0.1π)───Rx(0.1π)───Rx(0.1π)───Rx(0.1π)───Rx(0.1π)───Rx(0.1π)───Rx(0.1π)───Rx(0.1π)───M('x')───\n"
          ],
          "name": "stdout"
        }
      ]
    },
    {
      "cell_type": "code",
      "metadata": {
        "id": "TGcd5jfGmqWs",
        "colab_type": "code",
        "outputId": "458ef36a-2567-4cd7-d885-6619e2c7f921",
        "colab": {
          "base_uri": "https://localhost:8080/",
          "height": 298
        }
      },
      "source": [
        "from matplotlib import pyplot as plt\n",
        "simulator = cirq.Simulator()\n",
        "\n",
        "trials = 500\n",
        "results = []\n",
        "probs = []\n",
        "for i in range(10):\n",
        "  results.append(simulator.run(circuits[i], repetitions=trials))\n",
        "  probs.append(results[-1].histogram(key='x')[0]/trials)\n",
        "\n",
        "plt.title('Simulation results')\n",
        "plt.ylabel('Probability of |0> state')\n",
        "plt.xlabel('# of $\\pi$/10 rotations')\n",
        "plt.plot(range(1, 11), probs)\n",
        "plt.show()"
      ],
      "execution_count": 11,
      "outputs": [
        {
          "output_type": "display_data",
          "data": {
            "image/png": "[encoded data removed]",
            "text/plain": [
              "<Figure size 432x288 with 1 Axes>"
            ]
          },
          "metadata": {
            "tags": []
          }
        }
      ]
    },
    {
      "cell_type": "markdown",
      "metadata": {
        "id": "VsxH9S5SDrG_",
        "colab_type": "text"
      },
      "source": [
        "As we expect, the probability decreases as the number of rotations increases and goes to 0, when a rotation of  $\\pi$ radians total happens (10th circuit).  "
      ]
    }
  ]
}